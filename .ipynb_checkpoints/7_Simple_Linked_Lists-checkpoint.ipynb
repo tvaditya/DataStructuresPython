{
 "cells": [
  {
   "cell_type": "markdown",
   "metadata": {},
   "source": [
    "# 7. Simple Linked Lists"
   ]
  },
  {
   "cell_type": "code",
   "execution_count": 1,
   "metadata": {},
   "outputs": [],
   "source": [
    "# In an unordered vecotr search is slow\n",
    "# In an ordered vector insertion is slow\n",
    "# In both deleting items is slow\n",
    "# The size of a vector can't be modified once created ( unless you have dynamic vectors)\n",
    "# Empty vectors use space in memory (as you create them before using)"
   ]
  },
  {
   "cell_type": "code",
   "execution_count": 2,
   "metadata": {},
   "outputs": [],
   "source": [
    "# In a linked list each item is in a node\n",
    "# Each node has a reference to the next node of the list\n",
    "# A field of the list contains a reference to the first node"
   ]
  },
  {
   "cell_type": "code",
   "execution_count": 3,
   "metadata": {},
   "outputs": [],
   "source": [
    "# In a vector you can access a position by its index\n",
    "# In a list you have to walkthrough the sequence of the  list to find an item\n",
    "# An item can't be accessed directly, the relationship between them must be used."
   ]
  },
  {
   "cell_type": "code",
   "execution_count": 4,
   "metadata": {},
   "outputs": [],
   "source": [
    "# Each element of a list is stored in an object\n",
    "# Each elemnt of a list is referenced to the next one and alocated dynamically when needed\n",
    "# To reference the first element of a list there is another one called Head."
   ]
  },
  {
   "cell_type": "code",
   "execution_count": 5,
   "metadata": {},
   "outputs": [],
   "source": [
    "import numpy as np"
   ]
  },
  {
   "cell_type": "code",
   "execution_count": 1,
   "metadata": {},
   "outputs": [],
   "source": [
    "class Node:\n",
    "    def __init__(self, value):\n",
    "        self.value = value\n",
    "        self.next = None\n",
    "        \n",
    "    def show_node(self):\n",
    "        print(self.value)"
   ]
  },
  {
   "cell_type": "code",
   "execution_count": 2,
   "metadata": {},
   "outputs": [
    {
     "name": "stdout",
     "output_type": "stream",
     "text": [
      "1\n"
     ]
    }
   ],
   "source": [
    "# Check if it works\n",
    "node1 = Node(1)\n",
    "node1.show_node()"
   ]
  },
  {
   "cell_type": "code",
   "execution_count": 4,
   "metadata": {},
   "outputs": [],
   "source": [
    "class LinkedList:\n",
    "    def __init__(self):\n",
    "        self.first = None\n",
    "        \n",
    "    def insert_start(self, value):\n",
    "        new = Node(value)\n",
    "        new.next = self.first\n",
    "        self.first = new\n",
    "        \n",
    "    def show(self):\n",
    "        if self.first == None:\n",
    "            print('The list is empty')\n",
    "            return None\n",
    "        \n",
    "        actual = self.first\n",
    "        while actual != None:\n",
    "            actual.show_node()\n",
    "            actual = actual.next\n",
    "            \n",
    "    def search(self, value):\n",
    "        if self.first == None:\n",
    "            print('The list is empty')\n",
    "            return None\n",
    "        \n",
    "        actual = self.first\n",
    "        while actual.value != value:\n",
    "            if actual.next == None:\n",
    "                return None\n",
    "            else:\n",
    "                actual = actual.next\n",
    "            return actual\n",
    "        \n",
    "    def remove_start(self):\n",
    "        if self.first == None:\n",
    "            print('The list is empty')\n",
    "            return None        \n",
    "        \n",
    "        temp = self.first\n",
    "        self.first = self.first.next\n",
    "        return temp\n",
    "    \n",
    "    def remove_position(self, value):\n",
    "        if self.first == None:\n",
    "            print('The list is empty')\n",
    "            return None  \n",
    "        \n",
    "        actual = self.first\n",
    "        previous = self.first\n",
    "        while actual.value != value:\n",
    "            if actual.next == None:\n",
    "                return None\n",
    "            else:\n",
    "                previous = actual\n",
    "                actual = actual.next\n",
    "                \n",
    "            if actual == self.first:\n",
    "                self.first = self.first.next\n",
    "            else:\n",
    "                previous.next = actual.next\n",
    "            \n",
    "            return actual\n",
    "        "
   ]
  },
  {
   "cell_type": "code",
   "execution_count": 5,
   "metadata": {},
   "outputs": [],
   "source": [
    "llist = LinkedList()"
   ]
  },
  {
   "cell_type": "code",
   "execution_count": 6,
   "metadata": {},
   "outputs": [],
   "source": [
    "llist.insert_start(1)"
   ]
  },
  {
   "cell_type": "code",
   "execution_count": 7,
   "metadata": {},
   "outputs": [
    {
     "name": "stdout",
     "output_type": "stream",
     "text": [
      "1\n"
     ]
    }
   ],
   "source": [
    "llist.show()"
   ]
  },
  {
   "cell_type": "code",
   "execution_count": 8,
   "metadata": {},
   "outputs": [
    {
     "name": "stdout",
     "output_type": "stream",
     "text": [
      "2\n",
      "1\n"
     ]
    }
   ],
   "source": [
    "llist.insert_start(2)\n",
    "llist.show()"
   ]
  },
  {
   "cell_type": "code",
   "execution_count": 11,
   "metadata": {},
   "outputs": [
    {
     "name": "stdout",
     "output_type": "stream",
     "text": [
      "2\n"
     ]
    }
   ],
   "source": [
    "llist.first.show_node()\n"
   ]
  },
  {
   "cell_type": "code",
   "execution_count": 12,
   "metadata": {},
   "outputs": [],
   "source": [
    "llist.insert_start(3)\n",
    "llist.insert_start(4)\n",
    "llist.insert_start(5)"
   ]
  },
  {
   "cell_type": "code",
   "execution_count": 13,
   "metadata": {},
   "outputs": [
    {
     "name": "stdout",
     "output_type": "stream",
     "text": [
      "5\n",
      "4\n",
      "3\n",
      "2\n",
      "1\n"
     ]
    }
   ],
   "source": [
    "llist.show()"
   ]
  },
  {
   "cell_type": "code",
   "execution_count": 15,
   "metadata": {},
   "outputs": [
    {
     "name": "stdout",
     "output_type": "stream",
     "text": [
      "4\n",
      "3\n",
      "2\n",
      "1\n"
     ]
    }
   ],
   "source": [
    "llist.remove_start()\n",
    "llist.show()"
   ]
  },
  {
   "cell_type": "code",
   "execution_count": 20,
   "metadata": {},
   "outputs": [],
   "source": [
    "searchv = llist.search(3)"
   ]
  },
  {
   "cell_type": "code",
   "execution_count": 21,
   "metadata": {},
   "outputs": [
    {
     "name": "stdout",
     "output_type": "stream",
     "text": [
      "3\n"
     ]
    }
   ],
   "source": [
    "if searchv != None:\n",
    "    print(searchv.value)\n",
    "else:\n",
    "    print('Nothing here')"
   ]
  },
  {
   "cell_type": "code",
   "execution_count": 22,
   "metadata": {},
   "outputs": [
    {
     "name": "stdout",
     "output_type": "stream",
     "text": [
      "4\n",
      "2\n",
      "1\n"
     ]
    }
   ],
   "source": [
    "llist.remove_position(2)\n",
    "llist.show()"
   ]
  },
  {
   "cell_type": "code",
   "execution_count": null,
   "metadata": {},
   "outputs": [],
   "source": []
  }
 ],
 "metadata": {
  "kernelspec": {
   "display_name": "Python 3",
   "language": "python",
   "name": "python3"
  },
  "language_info": {
   "codemirror_mode": {
    "name": "ipython",
    "version": 3
   },
   "file_extension": ".py",
   "mimetype": "text/x-python",
   "name": "python",
   "nbconvert_exporter": "python",
   "pygments_lexer": "ipython3",
   "version": "3.7.3"
  }
 },
 "nbformat": 4,
 "nbformat_minor": 2
}
