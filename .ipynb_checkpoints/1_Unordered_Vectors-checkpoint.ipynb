{
 "cells": [
  {
   "cell_type": "markdown",
   "metadata": {},
   "source": [
    "# Unordered Vectors"
   ]
  },
  {
   "cell_type": "code",
   "execution_count": 1,
   "metadata": {},
   "outputs": [],
   "source": [
    "import numpy as np"
   ]
  },
  {
   "cell_type": "code",
   "execution_count": 56,
   "metadata": {},
   "outputs": [],
   "source": [
    "class UnorderedVector:\n",
    "    def __init__(self, capacity):\n",
    "        self.capacity = capacity\n",
    "        self.last_position = -1\n",
    "        self.values = np.empty(self.capacity, dtype = int)\n",
    "        \n",
    "    def printit(self):\n",
    "        if self.last_position == -1:\n",
    "            print('The vector is empty.')\n",
    "        else:\n",
    "            for i in range(self.last_position + 1):\n",
    "                print(i, ' - ', self.values[i])\n",
    "                \n",
    "    def insert(self, value):\n",
    "        if self.last_position == self.capacity -1:\n",
    "            print('At maximum capacity')\n",
    "        else:\n",
    "            self.last_position += 1\n",
    "            self.values[self.last_position] = value\n",
    "            \n",
    "    def linear_search(self, value):\n",
    "        for i in range(self.last_position + 1):\n",
    "            if value == self.values[i]:\n",
    "                return i\n",
    "        return -1\n",
    "    \n",
    "    def delete(self, value):\n",
    "        position = self.linear_search(value)\n",
    "        if position == -1:\n",
    "            return -1\n",
    "        else:\n",
    "            for i in range(position, self.last_position):\n",
    "                self.values[i] = self.values[i + 1]\n",
    "            \n",
    "            self.last_position -= 1"
   ]
  },
  {
   "cell_type": "code",
   "execution_count": 57,
   "metadata": {},
   "outputs": [],
   "source": [
    "vector = UnorderedVector(5)"
   ]
  },
  {
   "cell_type": "code",
   "execution_count": 58,
   "metadata": {},
   "outputs": [
    {
     "name": "stdout",
     "output_type": "stream",
     "text": [
      "The vector is empty.\n"
     ]
    }
   ],
   "source": [
    "vector.printit()"
   ]
  },
  {
   "cell_type": "code",
   "execution_count": 59,
   "metadata": {},
   "outputs": [
    {
     "name": "stdout",
     "output_type": "stream",
     "text": [
      "0  -  2\n"
     ]
    }
   ],
   "source": [
    "vector.insert(2)\n",
    "vector.printit()"
   ]
  },
  {
   "cell_type": "code",
   "execution_count": 60,
   "metadata": {},
   "outputs": [
    {
     "name": "stdout",
     "output_type": "stream",
     "text": [
      "0  -  2\n",
      "1  -  3\n",
      "2  -  4\n",
      "3  -  5\n",
      "4  -  6\n"
     ]
    }
   ],
   "source": [
    "vector.insert(3)\n",
    "vector.insert(4)\n",
    "vector.insert(5)\n",
    "vector.insert(6)\n",
    "\n",
    "vector.printit()"
   ]
  },
  {
   "cell_type": "code",
   "execution_count": 61,
   "metadata": {},
   "outputs": [
    {
     "name": "stdout",
     "output_type": "stream",
     "text": [
      "At maximum capacity\n"
     ]
    }
   ],
   "source": [
    "vector.insert(7)"
   ]
  },
  {
   "cell_type": "code",
   "execution_count": 62,
   "metadata": {},
   "outputs": [
    {
     "data": {
      "text/plain": [
       "4"
      ]
     },
     "execution_count": 62,
     "metadata": {},
     "output_type": "execute_result"
    }
   ],
   "source": [
    "vector.last_position"
   ]
  },
  {
   "cell_type": "code",
   "execution_count": 63,
   "metadata": {},
   "outputs": [
    {
     "name": "stdout",
     "output_type": "stream",
     "text": [
      "<class '__main__.UnorderedVector'>\n"
     ]
    }
   ],
   "source": [
    "print(type(vector))"
   ]
  },
  {
   "cell_type": "code",
   "execution_count": 64,
   "metadata": {},
   "outputs": [
    {
     "name": "stdout",
     "output_type": "stream",
     "text": [
      "0  -  2\n",
      "1  -  3\n",
      "2  -  4\n",
      "3  -  5\n",
      "4  -  6\n"
     ]
    }
   ],
   "source": [
    "vector.printit()"
   ]
  },
  {
   "cell_type": "code",
   "execution_count": 65,
   "metadata": {},
   "outputs": [
    {
     "data": {
      "text/plain": [
       "2"
      ]
     },
     "execution_count": 65,
     "metadata": {},
     "output_type": "execute_result"
    }
   ],
   "source": [
    "vector.linear_search(4)"
   ]
  },
  {
   "cell_type": "code",
   "execution_count": 66,
   "metadata": {},
   "outputs": [
    {
     "data": {
      "text/plain": [
       "-1"
      ]
     },
     "execution_count": 66,
     "metadata": {},
     "output_type": "execute_result"
    }
   ],
   "source": [
    "vector.linear_search(9)"
   ]
  },
  {
   "cell_type": "code",
   "execution_count": 67,
   "metadata": {},
   "outputs": [],
   "source": [
    "vector.delete(4)"
   ]
  },
  {
   "cell_type": "code",
   "execution_count": 68,
   "metadata": {},
   "outputs": [
    {
     "name": "stdout",
     "output_type": "stream",
     "text": [
      "0  -  2\n",
      "1  -  3\n",
      "2  -  5\n",
      "3  -  6\n"
     ]
    }
   ],
   "source": [
    "vector.printit()"
   ]
  },
  {
   "cell_type": "code",
   "execution_count": 69,
   "metadata": {},
   "outputs": [
    {
     "name": "stdout",
     "output_type": "stream",
     "text": [
      "0  -  2\n",
      "1  -  3\n",
      "2  -  5\n"
     ]
    }
   ],
   "source": [
    "vector.delete(6)\n",
    "vector.printit()"
   ]
  },
  {
   "cell_type": "code",
   "execution_count": 70,
   "metadata": {},
   "outputs": [
    {
     "name": "stdout",
     "output_type": "stream",
     "text": [
      "0  -  3\n",
      "1  -  5\n"
     ]
    }
   ],
   "source": [
    "vector.delete(2)\n",
    "vector.printit()"
   ]
  },
  {
   "cell_type": "code",
   "execution_count": 71,
   "metadata": {},
   "outputs": [
    {
     "name": "stdout",
     "output_type": "stream",
     "text": [
      "0  -  3\n",
      "1  -  5\n",
      "2  -  7\n",
      "3  -  9\n"
     ]
    }
   ],
   "source": [
    "vector.insert(7)\n",
    "vector.insert(9)\n",
    "vector.printit()"
   ]
  },
  {
   "cell_type": "code",
   "execution_count": null,
   "metadata": {},
   "outputs": [],
   "source": []
  }
 ],
 "metadata": {
  "kernelspec": {
   "display_name": "Python 3",
   "language": "python",
   "name": "python3"
  },
  "language_info": {
   "codemirror_mode": {
    "name": "ipython",
    "version": 3
   },
   "file_extension": ".py",
   "mimetype": "text/x-python",
   "name": "python",
   "nbconvert_exporter": "python",
   "pygments_lexer": "ipython3",
   "version": "3.7.3"
  }
 },
 "nbformat": 4,
 "nbformat_minor": 2
}
