{
 "cells": [
  {
   "cell_type": "markdown",
   "metadata": {},
   "source": [
    "# Deque"
   ]
  },
  {
   "cell_type": "code",
   "execution_count": 1,
   "metadata": {},
   "outputs": [],
   "source": [
    "import numpy as np"
   ]
  },
  {
   "cell_type": "code",
   "execution_count": 13,
   "metadata": {},
   "outputs": [],
   "source": [
    "class Deque:\n",
    "  \n",
    "  def __init__(self, capacity):\n",
    "    self.capacity = capacity\n",
    "    self.front = -1\n",
    "    self.rear = 0\n",
    "    self.number_elements = 0\n",
    "    self.values = np.empty(self.capacity, dtype=int)\n",
    "\n",
    "  def __full_deque(self):\n",
    "    return (self.front == 0 and self.rear == self.capacity - 1) or (self.front == self.rear + 1)\n",
    "\n",
    "  def __empty_deque(self):\n",
    "    return self.front == -1\n",
    "\n",
    "  def insert_front(self, value):\n",
    "    if self.__full_deque():\n",
    "      print('The deque is full')\n",
    "      return\n",
    "\n",
    "    # Se estiver vazio\n",
    "    if self.front == -1:\n",
    "      self.front = 0\n",
    "      self.rear = 0\n",
    "    # Início estiver na primeira posição\n",
    "    elif self.front == 0:\n",
    "      self.front = self.capacity - 1\n",
    "    else:\n",
    "      self.front -= 1\n",
    "    \n",
    "    self.values[self.front] = value\n",
    "\n",
    "  def insert_rear(self, value):\n",
    "    if self.__full_deque():\n",
    "      print('The deque is full')\n",
    "      return\n",
    "\n",
    "    # Se estiver vazio\n",
    "    if self.front == -1:\n",
    "      self.front = 0\n",
    "      self.rear = 0\n",
    "    # Final estiver na última posição\n",
    "    elif self.rear == self.capacity - 1:\n",
    "      self.rear = 0\n",
    "    else:\n",
    "      self.rear += 1\n",
    "\n",
    "    self.values[self.rear] = value\n",
    "\n",
    "  def delete_front(self):\n",
    "    if self.__empty_deque():\n",
    "      print('The deque is empty')\n",
    "      return\n",
    "\n",
    "    # Possui somente um elemento\n",
    "    if self.front == self.rear:\n",
    "      self.front = -1\n",
    "      self.rear = -1\n",
    "    else:\n",
    "      # Volta para a posição inicial\n",
    "      if self.front == self.capacity - 1:\n",
    "        self.front = 0\n",
    "      else:\n",
    "        # Incrementar início para remover o início atual\n",
    "        self.front += 1\n",
    "\n",
    "  def delete_rear(self):\n",
    "    if self.__empty_deque():\n",
    "      print('The deque is empty')\n",
    "      return\n",
    "    \n",
    "    if self.front == self.rear:\n",
    "      self.front = -1\n",
    "      self.rear = -1\n",
    "    elif self.front == 0:\n",
    "      self.front = self.capacity - 1\n",
    "    else:\n",
    "      self.rear -= 1\n",
    "\n",
    "  def get_front(self):\n",
    "    if self.__empty_deque():\n",
    "      print('The deque is empty')\n",
    "      return\n",
    "    \n",
    "    return self.values[self.front]\n",
    "\n",
    "  def get_rear(self):\n",
    "    if self.__empty_deque() or self.rear < 0:\n",
    "      print('The deque is empty')\n",
    "      return\n",
    "    \n",
    "    return self.values[self.rear]"
   ]
  },
  {
   "cell_type": "code",
   "execution_count": 14,
   "metadata": {},
   "outputs": [],
   "source": [
    "deque = Deque(5)"
   ]
  },
  {
   "cell_type": "code",
   "execution_count": 15,
   "metadata": {},
   "outputs": [],
   "source": [
    "deque.insert_rear(5)"
   ]
  },
  {
   "cell_type": "code",
   "execution_count": 16,
   "metadata": {},
   "outputs": [
    {
     "data": {
      "text/plain": [
       "(5, 5)"
      ]
     },
     "execution_count": 16,
     "metadata": {},
     "output_type": "execute_result"
    }
   ],
   "source": [
    "deque.get_front(), deque.get_rear()"
   ]
  },
  {
   "cell_type": "code",
   "execution_count": 17,
   "metadata": {},
   "outputs": [
    {
     "data": {
      "text/plain": [
       "(5, 6)"
      ]
     },
     "execution_count": 17,
     "metadata": {},
     "output_type": "execute_result"
    }
   ],
   "source": [
    "deque.insert_rear(6)\n",
    "deque.get_front(), deque.get_rear()"
   ]
  },
  {
   "cell_type": "code",
   "execution_count": 18,
   "metadata": {},
   "outputs": [
    {
     "data": {
      "text/plain": [
       "(2, 6)"
      ]
     },
     "execution_count": 18,
     "metadata": {},
     "output_type": "execute_result"
    }
   ],
   "source": [
    "deque.insert_front(2)\n",
    "deque.get_front(), deque.get_rear()"
   ]
  },
  {
   "cell_type": "code",
   "execution_count": 19,
   "metadata": {},
   "outputs": [
    {
     "data": {
      "text/plain": [
       "(1, 7)"
      ]
     },
     "execution_count": 19,
     "metadata": {},
     "output_type": "execute_result"
    }
   ],
   "source": [
    "deque.insert_front(1)\n",
    "deque.insert_rear(7)\n",
    "deque.get_front(), deque.get_rear()"
   ]
  },
  {
   "cell_type": "code",
   "execution_count": 20,
   "metadata": {},
   "outputs": [
    {
     "name": "stdout",
     "output_type": "stream",
     "text": [
      "The deque id full\n"
     ]
    }
   ],
   "source": [
    "deque.insert_front(11)"
   ]
  },
  {
   "cell_type": "code",
   "execution_count": 21,
   "metadata": {},
   "outputs": [
    {
     "name": "stdout",
     "output_type": "stream",
     "text": [
      "The deque is full\n"
     ]
    }
   ],
   "source": [
    "deque.insert_rear(17)"
   ]
  },
  {
   "cell_type": "code",
   "execution_count": 23,
   "metadata": {},
   "outputs": [
    {
     "data": {
      "text/plain": [
       "(2, 6)"
      ]
     },
     "execution_count": 23,
     "metadata": {},
     "output_type": "execute_result"
    }
   ],
   "source": [
    "deque.delete_front()\n",
    "deque.delete_rear()\n",
    "deque.get_front(), deque.get_rear()"
   ]
  },
  {
   "cell_type": "code",
   "execution_count": 24,
   "metadata": {},
   "outputs": [
    {
     "data": {
      "text/plain": [
       "array([5, 6, 7, 1, 2])"
      ]
     },
     "execution_count": 24,
     "metadata": {},
     "output_type": "execute_result"
    }
   ],
   "source": [
    "deque.values"
   ]
  },
  {
   "cell_type": "code",
   "execution_count": 26,
   "metadata": {},
   "outputs": [
    {
     "data": {
      "text/plain": [
       "(4, 1)"
      ]
     },
     "execution_count": 26,
     "metadata": {},
     "output_type": "execute_result"
    }
   ],
   "source": [
    "deque.front, deque.rear"
   ]
  },
  {
   "cell_type": "code",
   "execution_count": null,
   "metadata": {},
   "outputs": [],
   "source": []
  }
 ],
 "metadata": {
  "kernelspec": {
   "display_name": "Python 3",
   "language": "python",
   "name": "python3"
  },
  "language_info": {
   "codemirror_mode": {
    "name": "ipython",
    "version": 3
   },
   "file_extension": ".py",
   "mimetype": "text/x-python",
   "name": "python",
   "nbconvert_exporter": "python",
   "pygments_lexer": "ipython3",
   "version": "3.7.3"
  }
 },
 "nbformat": 4,
 "nbformat_minor": 2
}
