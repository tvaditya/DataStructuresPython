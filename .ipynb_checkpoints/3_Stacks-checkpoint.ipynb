{
 "cells": [
  {
   "cell_type": "markdown",
   "metadata": {},
   "source": [
    "# Stacks"
   ]
  },
  {
   "cell_type": "code",
   "execution_count": 1,
   "metadata": {},
   "outputs": [],
   "source": [
    "import numpy as np"
   ]
  },
  {
   "cell_type": "code",
   "execution_count": 2,
   "metadata": {},
   "outputs": [],
   "source": [
    "class Stack:\n",
    "    def __init__(self, capacity):\n",
    "        self.__capacity = capacity\n",
    "        self.__top = -1\n",
    "        self.__values = np.empty(self.__capacity, dtype = int)\n",
    "        \n",
    "    def __full_stack(self):\n",
    "        if self.__top == self.__capacity - 1:\n",
    "            return True\n",
    "        else:\n",
    "            return False\n",
    "    \n",
    "    def __empty_stack(self):\n",
    "        if self.__top == -1:\n",
    "            return True\n",
    "        else:\n",
    "            return False\n",
    "        \n",
    "    def stacking(self, value):\n",
    "        if self.__full_stack():\n",
    "            print('The stack is full.')\n",
    "        else:\n",
    "            self.__top += 1\n",
    "            self.__values[self.__top] = value\n",
    "            \n",
    "    def unstacking(self):\n",
    "        if self.__empty_stack():\n",
    "            print('The stack is empty.')\n",
    "        else:\n",
    "            self.__top -= 1\n",
    "            \n",
    "    def check_top(self):\n",
    "        if self.__top != -1:\n",
    "            return self.__values[self.__top]\n",
    "        else:\n",
    "            return -1"
   ]
  },
  {
   "cell_type": "code",
   "execution_count": 3,
   "metadata": {},
   "outputs": [],
   "source": [
    "stack = Stack(5)"
   ]
  },
  {
   "cell_type": "code",
   "execution_count": 4,
   "metadata": {},
   "outputs": [
    {
     "data": {
      "text/plain": [
       "1"
      ]
     },
     "execution_count": 4,
     "metadata": {},
     "output_type": "execute_result"
    }
   ],
   "source": [
    "stack.stacking(1)\n",
    "stack.check_top()"
   ]
  },
  {
   "cell_type": "code",
   "execution_count": 5,
   "metadata": {},
   "outputs": [
    {
     "data": {
      "text/plain": [
       "2"
      ]
     },
     "execution_count": 5,
     "metadata": {},
     "output_type": "execute_result"
    }
   ],
   "source": [
    "stack.stacking(2)\n",
    "stack.check_top()"
   ]
  },
  {
   "cell_type": "code",
   "execution_count": 6,
   "metadata": {},
   "outputs": [
    {
     "data": {
      "text/plain": [
       "4"
      ]
     },
     "execution_count": 6,
     "metadata": {},
     "output_type": "execute_result"
    }
   ],
   "source": [
    "stack.stacking(2)\n",
    "stack.stacking(3)\n",
    "stack.stacking(4)\n",
    "stack.check_top()"
   ]
  },
  {
   "cell_type": "code",
   "execution_count": 7,
   "metadata": {},
   "outputs": [
    {
     "name": "stdout",
     "output_type": "stream",
     "text": [
      "The stack is full.\n"
     ]
    }
   ],
   "source": [
    "stack.stacking(5)"
   ]
  },
  {
   "cell_type": "code",
   "execution_count": 8,
   "metadata": {},
   "outputs": [
    {
     "data": {
      "text/plain": [
       "3"
      ]
     },
     "execution_count": 8,
     "metadata": {},
     "output_type": "execute_result"
    }
   ],
   "source": [
    "stack.unstacking()\n",
    "stack.check_top()"
   ]
  },
  {
   "cell_type": "code",
   "execution_count": 9,
   "metadata": {},
   "outputs": [
    {
     "data": {
      "text/plain": [
       "2"
      ]
     },
     "execution_count": 9,
     "metadata": {},
     "output_type": "execute_result"
    }
   ],
   "source": [
    "stack.unstacking()\n",
    "stack.check_top()"
   ]
  },
  {
   "cell_type": "code",
   "execution_count": 10,
   "metadata": {},
   "outputs": [
    {
     "data": {
      "text/plain": [
       "2"
      ]
     },
     "execution_count": 10,
     "metadata": {},
     "output_type": "execute_result"
    }
   ],
   "source": [
    "stack.unstacking()\n",
    "stack.check_top()"
   ]
  },
  {
   "cell_type": "code",
   "execution_count": 11,
   "metadata": {},
   "outputs": [
    {
     "data": {
      "text/plain": [
       "1"
      ]
     },
     "execution_count": 11,
     "metadata": {},
     "output_type": "execute_result"
    }
   ],
   "source": [
    "stack.unstacking()\n",
    "stack.check_top()"
   ]
  },
  {
   "cell_type": "code",
   "execution_count": 12,
   "metadata": {},
   "outputs": [
    {
     "data": {
      "text/plain": [
       "-1"
      ]
     },
     "execution_count": 12,
     "metadata": {},
     "output_type": "execute_result"
    }
   ],
   "source": [
    "stack.unstacking()\n",
    "stack.check_top()"
   ]
  },
  {
   "cell_type": "code",
   "execution_count": 13,
   "metadata": {},
   "outputs": [
    {
     "name": "stdout",
     "output_type": "stream",
     "text": [
      "The stack is empty.\n"
     ]
    }
   ],
   "source": [
    "stack.unstacking()"
   ]
  },
  {
   "cell_type": "markdown",
   "metadata": {},
   "source": [
    "## Validation of  expressions"
   ]
  },
  {
   "cell_type": "code",
   "execution_count": 14,
   "metadata": {},
   "outputs": [],
   "source": [
    "class Stack:\n",
    "    def __init__(self, capacity):\n",
    "        self.capacity = capacity\n",
    "        self.top = -1\n",
    "        self.values = np.chararray(self.capacity, unicode = True)\n",
    "        \n",
    "    def __full_stack(self):\n",
    "        if self.top == self.capacity - 1:\n",
    "            return True\n",
    "        else:\n",
    "            return False\n",
    "    \n",
    "    def empty_stack(self):\n",
    "        if self.top == -1:\n",
    "            return True\n",
    "        else:\n",
    "            return False\n",
    "        \n",
    "    def stacking(self, value):\n",
    "        if self.__full_stack():\n",
    "            print('The stack is full.')\n",
    "        else:\n",
    "            self.top += 1\n",
    "            self.values[self.top] = value\n",
    "            \n",
    "    def unstacking(self):\n",
    "        if self.empty_stack():\n",
    "            print('The stack is empty.')\n",
    "            return -1\n",
    "        else:\n",
    "            value = self.values[self.top]\n",
    "            self.top -= 1\n",
    "            return value\n",
    "            \n",
    "    def check_top(self):\n",
    "        if self.top != -1:\n",
    "            return self.values[self.top]\n",
    "        else:\n",
    "            return -1"
   ]
  },
  {
   "cell_type": "code",
   "execution_count": 15,
   "metadata": {},
   "outputs": [
    {
     "name": "stdout",
     "output_type": "stream",
     "text": [
      "Type an expression: c[d]\n"
     ]
    }
   ],
   "source": [
    "expression = str(input('Type an expression: '))\n",
    "stack = Stack(len(expression))"
   ]
  },
  {
   "cell_type": "code",
   "execution_count": 16,
   "metadata": {},
   "outputs": [],
   "source": [
    "for i in range(len(expression)):\n",
    "  ch = expression[i]\n",
    "  if ch == '{' or ch == '[' or ch == '(':\n",
    "    stack.stacking(ch)\n",
    "  elif ch == '}' or ch == ']' or ch == ')':\n",
    "    if not stack.empty_stack():\n",
    "      chx = str(stack.unstacking())\n",
    "      if (ch == '}' and chx != '{') or (ch == ']' and chx != '[') or (ch == ')' and chx != '('):\n",
    "        print('Erro: ', ch, ' na posição ', i)\n",
    "        break\n",
    "    else:\n",
    "        print('Erro: ', ch, ' na posição ', i)\n",
    "if not stack.empty_stack():\n",
    "    print('Erro!')\n",
    "                   "
   ]
  },
  {
   "cell_type": "code",
   "execution_count": null,
   "metadata": {},
   "outputs": [],
   "source": []
  },
  {
   "cell_type": "code",
   "execution_count": null,
   "metadata": {},
   "outputs": [],
   "source": []
  },
  {
   "cell_type": "code",
   "execution_count": null,
   "metadata": {},
   "outputs": [],
   "source": []
  },
  {
   "cell_type": "code",
   "execution_count": null,
   "metadata": {},
   "outputs": [],
   "source": []
  },
  {
   "cell_type": "code",
   "execution_count": null,
   "metadata": {},
   "outputs": [],
   "source": []
  }
 ],
 "metadata": {
  "kernelspec": {
   "display_name": "Python 3",
   "language": "python",
   "name": "python3"
  },
  "language_info": {
   "codemirror_mode": {
    "name": "ipython",
    "version": 3
   },
   "file_extension": ".py",
   "mimetype": "text/x-python",
   "name": "python",
   "nbconvert_exporter": "python",
   "pygments_lexer": "ipython3",
   "version": "3.7.3"
  }
 },
 "nbformat": 4,
 "nbformat_minor": 2
}
