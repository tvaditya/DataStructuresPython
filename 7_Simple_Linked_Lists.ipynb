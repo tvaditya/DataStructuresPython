{
 "cells": [
  {
   "cell_type": "markdown",
   "metadata": {},
   "source": [
    "# 7. Simple Linked Lists"
   ]
  },
  {
   "cell_type": "code",
   "execution_count": 1,
   "metadata": {},
   "outputs": [],
   "source": [
    "# In an unordered vecotr search is slow\n",
    "# In an ordered vector insertion is slow\n",
    "# In both deleting items is slow\n",
    "# The size of a vector can't be modified once created ( unless you have dynamic vectors)\n",
    "# Empty vectors use space in memory (as you create them before using)"
   ]
  },
  {
   "cell_type": "code",
   "execution_count": 2,
   "metadata": {},
   "outputs": [],
   "source": [
    "# In a linked list each item is in a node\n",
    "# Each node has a reference to the next node of the list\n",
    "# A field of the list contains a reference to the first node"
   ]
  },
  {
   "cell_type": "code",
   "execution_count": 3,
   "metadata": {},
   "outputs": [],
   "source": [
    "# In a vector you can access a position by its index\n",
    "# In a list you have to walkthrough the sequence of the  list to find an item\n",
    "# An item can't be accessed directly, the relationship between them must be used."
   ]
  },
  {
   "cell_type": "code",
   "execution_count": 4,
   "metadata": {},
   "outputs": [],
   "source": [
    "# Each element of a list is stored in an object\n",
    "# Each elemnt of a list is referenced to the next one and alocated dynamically when needed\n",
    "# To reference the first element of a list there is another one called Head."
   ]
  },
  {
   "cell_type": "code",
   "execution_count": 5,
   "metadata": {},
   "outputs": [],
   "source": [
    "import numpy as np"
   ]
  },
  {
   "cell_type": "code",
   "execution_count": null,
   "metadata": {},
   "outputs": [],
   "source": []
  }
 ],
 "metadata": {
  "kernelspec": {
   "display_name": "Python 3",
   "language": "python",
   "name": "python3"
  },
  "language_info": {
   "codemirror_mode": {
    "name": "ipython",
    "version": 3
   },
   "file_extension": ".py",
   "mimetype": "text/x-python",
   "name": "python",
   "nbconvert_exporter": "python",
   "pygments_lexer": "ipython3",
   "version": "3.7.3"
  }
 },
 "nbformat": 4,
 "nbformat_minor": 2
}
