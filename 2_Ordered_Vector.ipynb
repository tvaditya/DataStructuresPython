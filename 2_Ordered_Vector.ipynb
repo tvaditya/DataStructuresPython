{
 "cells": [
  {
   "cell_type": "markdown",
   "metadata": {},
   "source": [
    "# Ordered Vector"
   ]
  },
  {
   "cell_type": "code",
   "execution_count": 1,
   "metadata": {},
   "outputs": [],
   "source": [
    "import numpy as np"
   ]
  },
  {
   "cell_type": "code",
   "execution_count": 90,
   "metadata": {},
   "outputs": [],
   "source": [
    "class OrderedVector:\n",
    "    def __init__(self, capacity):\n",
    "        self.capacity = capacity\n",
    "        self.last_position = -1\n",
    "        self.values = np.empty(self.capacity, dtype = int)\n",
    "        \n",
    "    def printit(self):\n",
    "        if self.last_position == -1:\n",
    "            print('The vector is empty.')\n",
    "        else:\n",
    "            for i in range(self.last_position + 1):\n",
    "                print(i, ' - ', self.values[i])\n",
    "                \n",
    "    def insert(self, value):\n",
    "        if self.last_position == self.capacity - 1:\n",
    "            print(\"At maximum capacity.\")\n",
    "            \n",
    "        position = 0\n",
    "        for i in range(self.last_position + 1):\n",
    "            position = i\n",
    "            if self.values[i] > value:\n",
    "                break\n",
    "            if i == self.last_position:\n",
    "                position = i + 1\n",
    "                \n",
    "        x = self.last_position\n",
    "        while x >= position:\n",
    "            self.values[x + 1] = self.values[x]\n",
    "            x -= 1\n",
    "            \n",
    "        self.values[position] = value\n",
    "        self.last_position += 1\n",
    "        \n",
    "    def linear_search(self, value):\n",
    "        for i in range(self.last_position + 1):\n",
    "            if self.values[i] > value:\n",
    "                return -1\n",
    "            if self.values[i] == value:\n",
    "                return i\n",
    "            if i == self.last_position:\n",
    "                return -1\n",
    "            \n",
    "    def linear_search_2(self, value):\n",
    "        for i in range(self.last_position + 1):\n",
    "            if value == self.values[i]:\n",
    "                return i\n",
    "        return -1\n",
    "    \n",
    "    def binary_search(self, value):\n",
    "        \n",
    "        limit_low = 0\n",
    "        limit_high = self.last_position\n",
    "\n",
    "        while True:\n",
    "            actual_position = int((limit_low + limit_high) / 2)\n",
    "\n",
    "            if self.values[actual_position] == value:\n",
    "                return actual_position\n",
    "\n",
    "            elif limit_low > limit_high:\n",
    "                return -1\n",
    "\n",
    "            else:\n",
    "\n",
    "                if self.values[actual_position] < value:\n",
    "                    limit_low = actual_position + 1\n",
    "\n",
    "                else:\n",
    "                    limit_high = actual_position - 1\n",
    "        \n",
    "    \n",
    "    def delete(self, value):\n",
    "        position = self.linear_search(value)\n",
    "        if position == -1:\n",
    "            return -1\n",
    "        else:\n",
    "            for i in range(position, self.last_position):\n",
    "                self.values[i] = self.values[i + 1]\n",
    "            \n",
    "            self.last_position -= 1"
   ]
  },
  {
   "cell_type": "code",
   "execution_count": 91,
   "metadata": {},
   "outputs": [
    {
     "name": "stdout",
     "output_type": "stream",
     "text": [
      "The vector is empty.\n"
     ]
    }
   ],
   "source": [
    "vector = OrderedVector(10)\n",
    "vector.printit()"
   ]
  },
  {
   "cell_type": "code",
   "execution_count": 92,
   "metadata": {},
   "outputs": [
    {
     "name": "stdout",
     "output_type": "stream",
     "text": [
      "0  -  1\n",
      "1  -  2\n",
      "2  -  3\n",
      "3  -  4\n",
      "4  -  5\n",
      "5  -  6\n",
      "6  -  7\n",
      "7  -  8\n",
      "8  -  9\n"
     ]
    }
   ],
   "source": [
    "vector.insert(1)\n",
    "vector.insert(2)\n",
    "vector.insert(3)\n",
    "vector.insert(4)\n",
    "vector.insert(5)\n",
    "vector.insert(6)\n",
    "vector.insert(7)\n",
    "vector.insert(8)\n",
    "vector.insert(9)\n",
    "vector.printit()"
   ]
  },
  {
   "cell_type": "code",
   "execution_count": 93,
   "metadata": {},
   "outputs": [
    {
     "data": {
      "text/plain": [
       "8"
      ]
     },
     "execution_count": 93,
     "metadata": {},
     "output_type": "execute_result"
    }
   ],
   "source": [
    "vector.linear_search(9)"
   ]
  },
  {
   "cell_type": "code",
   "execution_count": 94,
   "metadata": {},
   "outputs": [
    {
     "data": {
      "text/plain": [
       "-1"
      ]
     },
     "execution_count": 94,
     "metadata": {},
     "output_type": "execute_result"
    }
   ],
   "source": [
    "vector.linear_search(0)"
   ]
  },
  {
   "cell_type": "code",
   "execution_count": 95,
   "metadata": {},
   "outputs": [
    {
     "data": {
      "text/plain": [
       "-1"
      ]
     },
     "execution_count": 95,
     "metadata": {},
     "output_type": "execute_result"
    }
   ],
   "source": [
    "vector.linear_search(11)"
   ]
  },
  {
   "cell_type": "code",
   "execution_count": 96,
   "metadata": {},
   "outputs": [
    {
     "data": {
      "text/plain": [
       "-1"
      ]
     },
     "execution_count": 96,
     "metadata": {},
     "output_type": "execute_result"
    }
   ],
   "source": [
    "vector.linear_search_2(0)"
   ]
  },
  {
   "cell_type": "code",
   "execution_count": 97,
   "metadata": {},
   "outputs": [
    {
     "data": {
      "text/plain": [
       "-1"
      ]
     },
     "execution_count": 97,
     "metadata": {},
     "output_type": "execute_result"
    }
   ],
   "source": [
    "vector.linear_search_2(11)"
   ]
  },
  {
   "cell_type": "code",
   "execution_count": 98,
   "metadata": {},
   "outputs": [
    {
     "data": {
      "text/plain": [
       "5"
      ]
     },
     "execution_count": 98,
     "metadata": {},
     "output_type": "execute_result"
    }
   ],
   "source": [
    "vector.linear_search_2(6)"
   ]
  },
  {
   "cell_type": "code",
   "execution_count": 99,
   "metadata": {},
   "outputs": [
    {
     "name": "stdout",
     "output_type": "stream",
     "text": [
      "0  -  2\n",
      "1  -  3\n",
      "2  -  4\n",
      "3  -  5\n",
      "4  -  6\n",
      "5  -  7\n",
      "6  -  8\n",
      "7  -  9\n"
     ]
    }
   ],
   "source": [
    "vector.delete(1)\n",
    "vector.printit()"
   ]
  },
  {
   "cell_type": "code",
   "execution_count": 100,
   "metadata": {},
   "outputs": [
    {
     "name": "stdout",
     "output_type": "stream",
     "text": [
      "0  -  2\n",
      "1  -  3\n",
      "2  -  4\n",
      "3  -  5\n",
      "4  -  6\n",
      "5  -  7\n",
      "6  -  8\n"
     ]
    }
   ],
   "source": [
    "vector.delete(9)\n",
    "vector.printit()"
   ]
  },
  {
   "cell_type": "code",
   "execution_count": 101,
   "metadata": {},
   "outputs": [
    {
     "name": "stdout",
     "output_type": "stream",
     "text": [
      "0  -  2\n",
      "1  -  3\n",
      "2  -  4\n",
      "3  -  6\n",
      "4  -  7\n",
      "5  -  8\n"
     ]
    }
   ],
   "source": [
    "vector.delete(5)\n",
    "vector.printit()"
   ]
  },
  {
   "cell_type": "code",
   "execution_count": 102,
   "metadata": {},
   "outputs": [
    {
     "data": {
      "text/plain": [
       "-1"
      ]
     },
     "execution_count": 102,
     "metadata": {},
     "output_type": "execute_result"
    }
   ],
   "source": [
    "vector.delete(23)"
   ]
  },
  {
   "cell_type": "code",
   "execution_count": 103,
   "metadata": {},
   "outputs": [
    {
     "name": "stdout",
     "output_type": "stream",
     "text": [
      "0  -  2\n",
      "1  -  3\n",
      "2  -  4\n",
      "3  -  6\n",
      "4  -  7\n",
      "5  -  8\n",
      "6  -  9\n",
      "7  -  11\n",
      "8  -  14\n",
      "9  -  20\n"
     ]
    }
   ],
   "source": [
    "vector.insert(11)\n",
    "vector.insert(9)\n",
    "vector.insert(20)\n",
    "vector.insert(14)\n",
    "\n",
    "vector.printit()"
   ]
  },
  {
   "cell_type": "code",
   "execution_count": 104,
   "metadata": {},
   "outputs": [
    {
     "data": {
      "text/plain": [
       "4"
      ]
     },
     "execution_count": 104,
     "metadata": {},
     "output_type": "execute_result"
    }
   ],
   "source": [
    "vector.binary_search(7)"
   ]
  },
  {
   "cell_type": "code",
   "execution_count": 105,
   "metadata": {},
   "outputs": [
    {
     "data": {
      "text/plain": [
       "7"
      ]
     },
     "execution_count": 105,
     "metadata": {},
     "output_type": "execute_result"
    }
   ],
   "source": [
    "vector.binary_search(11)"
   ]
  },
  {
   "cell_type": "code",
   "execution_count": 106,
   "metadata": {},
   "outputs": [
    {
     "data": {
      "text/plain": [
       "0"
      ]
     },
     "execution_count": 106,
     "metadata": {},
     "output_type": "execute_result"
    }
   ],
   "source": [
    "vector.binary_search(2)"
   ]
  },
  {
   "cell_type": "code",
   "execution_count": 107,
   "metadata": {},
   "outputs": [
    {
     "data": {
      "text/plain": [
       "-1"
      ]
     },
     "execution_count": 107,
     "metadata": {},
     "output_type": "execute_result"
    }
   ],
   "source": [
    "vector.binary_search(57)"
   ]
  },
  {
   "cell_type": "code",
   "execution_count": null,
   "metadata": {},
   "outputs": [],
   "source": []
  }
 ],
 "metadata": {
  "kernelspec": {
   "display_name": "Python 3",
   "language": "python",
   "name": "python3"
  },
  "language_info": {
   "codemirror_mode": {
    "name": "ipython",
    "version": 3
   },
   "file_extension": ".py",
   "mimetype": "text/x-python",
   "name": "python",
   "nbconvert_exporter": "python",
   "pygments_lexer": "ipython3",
   "version": "3.7.3"
  }
 },
 "nbformat": 4,
 "nbformat_minor": 2
}
